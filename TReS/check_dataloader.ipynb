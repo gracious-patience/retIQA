{
 "cells": [
  {
   "cell_type": "code",
   "execution_count": 1,
   "metadata": {},
   "outputs": [],
   "source": [
    "import torch\n",
    "import gc\n",
    "import numpy as np\n",
    "from torch.utils.data import DataLoader\n",
    "import time\n",
    "import sys\n",
    "import torch\n",
    "import argparse\n",
    "from models import Net\n",
    "import pandas as pd\n",
    "from PIL import Image\n",
    "import statistics  \n",
    "import random\n",
    "from scipy import stats\n",
    "from sklearn.model_selection import train_test_split\n",
    "torch.set_num_threads(24)\n",
    "import data_loader\n",
    "import folders\n",
    "import json\n",
    "import matplotlib.pyplot as plt"
   ]
  },
  {
   "cell_type": "code",
   "execution_count": 2,
   "metadata": {},
   "outputs": [],
   "source": [
    "# CONSTANTS\n",
    "img_num = {\n",
    "        'csiq':     list(range(0, 30)),\n",
    "        'kadid10k': list(range(0, 80)),\n",
    "        'tid2013':  list(range(0, 25)),\n",
    "        'koniq':    list(range(0, 10073)),\n",
    "        'spaq':     list(range(0, 11125)),\n",
    "        'pipal':    list(range(0, 200)),\n",
    "        'biq':      list(range(0, 11989))\n",
    "        }\n",
    "\n",
    "botnet_pretrain=\"/home/sharfikeg/my_files/VIPNet/pretrained_model/botnet_model_best.pth.tar\"\n",
    "botnet_pretrain_classes=150\n",
    "my_botnet_pretrain=\"/home/sharfikeg/my_files/retIQA/dc_ret/my_botnet_pretrain/checkpoint_model_best_heads16.pth\"\n",
    "my_botnet_pretrain_classes=125\n",
    "logging_path=\"/home/sharfikeg/my_files/retIQA/dc_ret/DistorsionFeatureExtractor/results.csv\"\n",
    "tres_save_path=\"/extra_disk_1/sharfikeg/Save_TReS/\"\n",
    "\n",
    "tid2013_botnet_finetune=\"/home/sharfikeg/my_files/retIQA/dc_ret/finetune_botnet50_tid2013_checkpoints/checkpoint_model_best_heads16.pth\"\n",
    "tid2013_data_path=\"/home/s-kastryulin/data/tid2013/distorted_images/\"\n",
    "tid2013_ref_path=\"/home/s-kastryulin/data/tid2013/reference_images/\"\n",
    "tid2013_csv_path=\"/home/sharfikeg/my_files/retIQA/tid2013/tid2013_info.csv\"\n",
    "tid2013_uni_csv_path=\"/home/sharfikeg/my_files/retIQA/tid2013/tid2013_uni_info.csv\"\n",
    "tid2013_num_classes=120\n",
    "k_tid=9\n",
    "\n",
    "kadid10k_botnet_finetune=\"/home/sharfikeg/my_files/retIQA/dc_ret/finetune_botnet50_kadid10k_checkpoints/checkpoint_model_best_heads16.pth\"\n",
    "kadid10k_data_path=\"/home/sharfikeg/my_files/retIQA/kadid10k/distorted_images/\"\n",
    "kadid10k_ref_path=\"/home/sharfikeg/my_files/retIQA/kadid10k/reference_images/\"\n",
    "kadid10k_csv_path=\"/home/sharfikeg/my_files/retIQA/kadid10k/kadid10k_info.csv\"\n",
    "kadid10k_uni_csv_path=\"/home/sharfikeg/my_files/retIQA/kadid10k/kadid10k_uni_info.csv\"\n",
    "kadid10k_num_classes=125\n",
    "k_kadid=9\n",
    "\n",
    "csiq_botnet_finetune=\"/home/sharfikeg/my_files/retIQA/dc_ret/finetune_botnet50_csiq_checkpoints/checkpoint_model_best_heads16.pth\"\n",
    "csiq_data_path=\"/home/sharfikeg/my_files/retIQA/csiq/distorted_images/\"\n",
    "csiq_ref_path=\"/home/sharfikeg/my_files/retIQA/csiq/src_imgs/\"\n",
    "csiq_csv_path=\"/home/sharfikeg/my_files/retIQA/csiq/csiq_info.csv\"\n",
    "csiq_uni_csv_path=\"/home/sharfikeg/my_files/retIQA/csiq/csiq_uni_info.csv\"\n",
    "csiq_num_classes=30\n",
    "k_csiq=9\n",
    "\n",
    "koniq10k_data_path=\"/home/s-kastryulin/data/koniq10k/512x384/\"\n",
    "koniq10k_csv_path=\"/home/s-kastryulin/data/koniq10k/koniq10k_info.csv\"\n",
    "koniq10k_big_data_path=\"/home/s-kastryulin/data/koniq10k/1024x768/\"\n",
    "koniq10k_big_csv_path=\"/home/s-kastryulin/data/koniq10k/koniq10k_big_info.csv\"\n",
    "koniq10k_uni_csv_path=\"/home/s-kastryulin/data/koniq10k/koniq10k_uni_info.csv\"\n",
    "k_koniq=30\n",
    "\n",
    "spaq_data_path=\"/extra_disk_1/sharfikeg/spaq/TestImage/\"\n",
    "spaq_csv_path=\"/extra_disk_1/sharfikeg/spaq/spaq_info.csv\"\n",
    "spaq_uni_csv_path=\"/home/sharfikeg/my_files/extra_disk_1/spaq/spaq_uni_info.csv\"\n",
    "k_spaq=50\n",
    "\n",
    "biq_data_path=\"/home/sharfikeg/my_files/extra_disk_1/BIQ2021/Images/\"\n",
    "biq_csv_path=\"/home/sharfikeg/my_files/extra_disk_1/BIQ2021/biq_info.csv\"\n",
    "biq_uni_csv_path=\"/home/sharfikeg/my_files/extra_disk_1/BIQ2021/biq_uni_info.csv\"\n",
    "k_biq=30\n",
    "\n",
    "pipal_data_path=\"/home/sharfikeg/my_files/extra_disk_1/pipal/train/Train_Dist/\"\n",
    "pipal_ref_path=\"/home/sharfikeg/my_files/extra_disk_1/pipal/train/Train_Ref/\"\n",
    "pipal_csv_path=\"/home/sharfikeg/my_files/extra_disk_1/pipal/train/pipal_info.csv\"\n",
    "pipal_uni_csv_path=\"/home/sharfikeg/my_files/extra_disk_1/pipal/train/pipal_uni_info.csv\"\n",
    "k_pipal=20\n",
    "\n",
    "def str_2_float_list(pseudolist):\n",
    "    intermediate = pseudolist.strip('][').split(', ')\n",
    "    return list(map(float, intermediate))\n",
    "def str_2_str_list(pseudolist):\n",
    "    intermediate = pseudolist.strip('][').split(', ')\n",
    "    return list(map(str, intermediate))"
   ]
  },
  {
   "cell_type": "code",
   "execution_count": 5,
   "metadata": {},
   "outputs": [
    {
     "name": "stdout",
     "output_type": "stream",
     "text": [
      "[16, 13, 2, 1, 22, 14, 4, 21, 6, 7, 5, 20, 9, 11, 24, 19, 0, 8, 3, 10] [18, 17, 12, 23, 15]\n"
     ]
    }
   ],
   "source": [
    "train, test = train_test_split(img_num['tid2013'], test_size=0.2, random_state=3)\n",
    "print(train, test)\n",
    "path=\"/home/s-kastryulin/data/tid2013\"\n",
    "csiq_test = folders.TID2013Folder(\n",
    "    path,  index=test, transform=None, patch_num=1\n",
    "    )\n",
    "csiq_train = folders.TID2013Folder(\n",
    "   path,  index=train, transform=None, patch_num=1\n",
    ")"
   ]
  },
  {
   "cell_type": "code",
   "execution_count": 51,
   "metadata": {},
   "outputs": [],
   "source": [
    "path=\"/home/sharfikeg/my_files/retIQA/csiq\"\n",
    "test_loader=data_loader.DataLoader('csiq', path, test, 224, 50, 1, False)"
   ]
  },
  {
   "cell_type": "code",
   "execution_count": 41,
   "metadata": {},
   "outputs": [],
   "source": [
    "scoress = pd.read_csv(\"/home/sharfikeg/my_files/extra_disk_1/Save_TReS/csiq_1_1/sv/just_preds_8.csv\")\n",
    "score = pd.read_csv(\"/home/sharfikeg/my_files/extra_disk_1/Save_TReS/csiq_1_1/sv/just_preds_50.csv\")\n",
    "s = pd.read_csv(\"/home/sharfikeg/my_files/extra_disk_1/Save_TReS/csiq_1_1/sv/just_preds_1.csv\")"
   ]
  },
  {
   "cell_type": "code",
   "execution_count": 48,
   "metadata": {},
   "outputs": [
    {
     "data": {
      "text/plain": [
       "(preds    0.262167\n",
       " gts      0.040322\n",
       " Name: 4, dtype: float64,\n",
       " preds    0.262210\n",
       " gts      0.040322\n",
       " Name: 4, dtype: float64,\n",
       " preds    0.159644\n",
       " gts      0.040322\n",
       " Name: 4, dtype: float64)"
      ]
     },
     "execution_count": 48,
     "metadata": {},
     "output_type": "execute_result"
    }
   ],
   "source": [
    "id=4\n",
    "scoress.iloc[id], score.iloc[id], s.iloc[id]"
   ]
  },
  {
   "cell_type": "code",
   "execution_count": 40,
   "metadata": {},
   "outputs": [
    {
     "data": {
      "text/plain": [
       "preds    0.138456\n",
       "gts      0.040322\n",
       "Name: 9, dtype: float64"
      ]
     },
     "execution_count": 40,
     "metadata": {},
     "output_type": "execute_result"
    }
   ],
   "source": []
  }
 ],
 "metadata": {
  "kernelspec": {
   "display_name": "myenv",
   "language": "python",
   "name": "python3"
  },
  "language_info": {
   "codemirror_mode": {
    "name": "ipython",
    "version": 3
   },
   "file_extension": ".py",
   "mimetype": "text/x-python",
   "name": "python",
   "nbconvert_exporter": "python",
   "pygments_lexer": "ipython3",
   "version": "3.9.13"
  },
  "orig_nbformat": 4
 },
 "nbformat": 4,
 "nbformat_minor": 2
}
