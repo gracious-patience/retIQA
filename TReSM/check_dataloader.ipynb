{
 "cells": [
  {
   "cell_type": "code",
   "execution_count": 12,
   "metadata": {},
   "outputs": [],
   "source": [
    "import torch\n",
    "import gc\n",
    "import numpy as np\n",
    "from torch.utils.data import DataLoader\n",
    "import time\n",
    "import sys\n",
    "sys.path.append(\"/home/sharfikeg/my_files/retIQA/ret/TReSM\")\n",
    "import torch\n",
    "from torch import nn\n",
    "from torch.linalg import vector_norm, lstsq\n",
    "from torchvision import models\n",
    "import torchvision.transforms as T\n",
    "import argparse\n",
    "from models import Net\n",
    "import pandas as pd\n",
    "from PIL import Image\n",
    "import statistics  \n",
    "import random\n",
    "from scipy import stats\n",
    "from sklearn.model_selection import train_test_split\n",
    "torch.set_num_threads(24)\n",
    "import data_loader\n",
    "import folders\n",
    "import json\n",
    "import matplotlib.pyplot as plt"
   ]
  },
  {
   "cell_type": "code",
   "execution_count": 2,
   "metadata": {},
   "outputs": [],
   "source": [
    "# CONSTANTS\n",
    "img_num = {\n",
    "        'csiq':     list(range(0, 30)),\n",
    "        'kadid10k': list(range(0, 80)),\n",
    "        'tid2013':  list(range(0, 25)),\n",
    "        'koniq':    list(range(0, 10073)),\n",
    "        'spaq':     list(range(0, 11125)),\n",
    "        'pipal':    list(range(0, 200)),\n",
    "        'biq':      list(range(0, 11989))\n",
    "        }\n",
    "\n",
    "botnet_pretrain=\"/home/sharfikeg/my_files/VIPNet/pretrained_model/botnet_model_best.pth.tar\"\n",
    "botnet_pretrain_classes=150\n",
    "my_botnet_pretrain=\"/home/sharfikeg/my_files/retIQA/dc_ret/my_botnet_pretrain/checkpoint_model_best_heads16.pth\"\n",
    "my_botnet_pretrain_classes=125\n",
    "logging_path=\"/home/sharfikeg/my_files/retIQA/dc_ret/DistorsionFeatureExtractor/results.csv\"\n",
    "tres_save_path=\"/extra_disk_1/sharfikeg/Save_TReS/\"\n",
    "\n",
    "tid2013_botnet_finetune=\"/home/sharfikeg/my_files/retIQA/dc_ret/finetune_botnet50_tid2013_checkpoints/checkpoint_model_best_heads16.pth\"\n",
    "tid2013_data_path=\"/home/s-kastryulin/data/tid2013/distorted_images/\"\n",
    "tid2013_ref_path=\"/home/s-kastryulin/data/tid2013/reference_images/\"\n",
    "tid2013_csv_path=\"/home/sharfikeg/my_files/retIQA/tid2013/tid2013_info.csv\"\n",
    "tid2013_uni_csv_path=\"/home/sharfikeg/my_files/retIQA/tid2013/tid2013_uni_info.csv\"\n",
    "tid2013_num_classes=120\n",
    "k_tid=9\n",
    "\n",
    "kadid10k_botnet_finetune=\"/home/sharfikeg/my_files/retIQA/dc_ret/finetune_botnet50_kadid10k_checkpoints/checkpoint_model_best_heads16.pth\"\n",
    "kadid10k_data_path=\"/home/sharfikeg/my_files/retIQA/kadid10k/distorted_images/\"\n",
    "kadid10k_ref_path=\"/home/sharfikeg/my_files/retIQA/kadid10k/reference_images/\"\n",
    "kadid10k_csv_path=\"/home/sharfikeg/my_files/retIQA/kadid10k/kadid10k_info.csv\"\n",
    "kadid10k_uni_csv_path=\"/home/sharfikeg/my_files/retIQA/kadid10k/kadid10k_uni_info.csv\"\n",
    "kadid10k_num_classes=125\n",
    "k_kadid=9\n",
    "\n",
    "csiq_botnet_finetune=\"/home/sharfikeg/my_files/retIQA/dc_ret/finetune_botnet50_csiq_checkpoints/checkpoint_model_best_heads16.pth\"\n",
    "csiq_data_path=\"/home/sharfikeg/my_files/retIQA/csiq/distorted_images/\"\n",
    "csiq_ref_path=\"/home/sharfikeg/my_files/retIQA/csiq/src_imgs/\"\n",
    "csiq_csv_path=\"/home/sharfikeg/my_files/retIQA/csiq/csiq_info.csv\"\n",
    "csiq_uni_csv_path=\"/home/sharfikeg/my_files/retIQA/csiq/csiq_uni_info.csv\"\n",
    "csiq_num_classes=30\n",
    "k_csiq=9\n",
    "\n",
    "koniq10k_data_path=\"/home/s-kastryulin/data/koniq10k/512x384/\"\n",
    "koniq10k_csv_path=\"/home/s-kastryulin/data/koniq10k/koniq10k_info.csv\"\n",
    "koniq10k_big_data_path=\"/home/s-kastryulin/data/koniq10k/1024x768/\"\n",
    "koniq10k_big_csv_path=\"/home/s-kastryulin/data/koniq10k/koniq10k_big_info.csv\"\n",
    "koniq10k_uni_csv_path=\"/home/s-kastryulin/data/koniq10k/koniq10k_uni_info.csv\"\n",
    "k_koniq=30\n",
    "\n",
    "spaq_data_path=\"/extra_disk_1/sharfikeg/spaq/TestImage/\"\n",
    "spaq_csv_path=\"/extra_disk_1/sharfikeg/spaq/spaq_info.csv\"\n",
    "spaq_uni_csv_path=\"/home/sharfikeg/my_files/extra_disk_1/spaq/spaq_uni_info.csv\"\n",
    "k_spaq=50\n",
    "\n",
    "biq_data_path=\"/home/sharfikeg/my_files/extra_disk_1/BIQ2021/Images/\"\n",
    "biq_csv_path=\"/home/sharfikeg/my_files/extra_disk_1/BIQ2021/biq_info.csv\"\n",
    "biq_uni_csv_path=\"/home/sharfikeg/my_files/extra_disk_1/BIQ2021/biq_uni_info.csv\"\n",
    "k_biq=30\n",
    "\n",
    "pipal_data_path=\"/home/sharfikeg/my_files/extra_disk_1/pipal/train/Train_Dist/\"\n",
    "pipal_ref_path=\"/home/sharfikeg/my_files/extra_disk_1/pipal/train/Train_Ref/\"\n",
    "pipal_csv_path=\"/home/sharfikeg/my_files/extra_disk_1/pipal/train/pipal_info.csv\"\n",
    "pipal_uni_csv_path=\"/home/sharfikeg/my_files/extra_disk_1/pipal/train/pipal_uni_info.csv\"\n",
    "k_pipal=20\n",
    "\n",
    "def str_2_float_list(pseudolist):\n",
    "    intermediate = pseudolist.strip('][').split(', ')\n",
    "    return list(map(float, intermediate))\n",
    "def str_2_str_list(pseudolist):\n",
    "    intermediate = pseudolist.strip('][').split(', ')\n",
    "    return list(map(str, intermediate))"
   ]
  },
  {
   "cell_type": "code",
   "execution_count": 3,
   "metadata": {},
   "outputs": [],
   "source": [
    "train, test = train_test_split(img_num['csiq'], test_size=0.2, random_state=3)\n",
    "csiq = folders.CSIQFolder(\n",
    "    '/home/sharfikeg/my_files/retIQA/csiq', seed=3, index=test, transform=None, patch_num=1, istrain=False, k=3\n",
    ")"
   ]
  },
  {
   "cell_type": "code",
   "execution_count": 19,
   "metadata": {},
   "outputs": [
    {
     "data": {
      "text/plain": [
       "tensor([[[[ 1.7523,  1.7523,  1.7523,  ...,  1.6838,  1.6324,  1.5810],\n",
       "          [ 1.7523,  1.7523,  1.7523,  ...,  1.6667,  1.6153,  1.5468],\n",
       "          [ 1.7523,  1.7523,  1.7523,  ...,  1.6667,  1.5810,  1.5125],\n",
       "          ...,\n",
       "          [ 0.6906,  0.7077,  0.7419,  ...,  1.1358,  1.1358,  1.1529],\n",
       "          [ 0.1939,  0.2453,  0.2967,  ...,  1.1529,  1.1700,  1.2043],\n",
       "          [ 0.5022,  0.5022,  0.4851,  ...,  0.9817,  1.0502,  1.0844]],\n",
       "\n",
       "         [[ 1.9559,  1.9559,  1.9559,  ...,  1.8508,  1.7983,  1.7458],\n",
       "          [ 1.9559,  1.9559,  1.9559,  ...,  1.8333,  1.7808,  1.7108],\n",
       "          [ 1.9559,  1.9559,  1.9559,  ...,  1.8333,  1.7458,  1.6758],\n",
       "          ...,\n",
       "          [ 0.6604,  0.6779,  0.7129,  ...,  1.1681,  1.1681,  1.1856],\n",
       "          [ 0.1702,  0.2227,  0.2752,  ...,  1.2031,  1.2206,  1.2556],\n",
       "          [ 0.4678,  0.4678,  0.4503,  ...,  1.0280,  1.0980,  1.1331]],\n",
       "\n",
       "         [[ 2.1171,  2.1171,  2.1171,  ...,  2.0300,  1.9777,  1.9254],\n",
       "          [ 2.1171,  2.1171,  2.1171,  ...,  2.0125,  1.9603,  1.8905],\n",
       "          [ 2.1171,  2.1171,  2.1171,  ...,  2.0125,  1.9254,  1.8557],\n",
       "          ...,\n",
       "          [ 0.6705,  0.6879,  0.7228,  ...,  1.2457,  1.2457,  1.2631],\n",
       "          [ 0.0953,  0.1476,  0.1999,  ...,  1.2108,  1.2282,  1.2631],\n",
       "          [ 0.4788,  0.4788,  0.4614,  ...,  1.0365,  1.1062,  1.1411]],\n",
       "\n",
       "         ...,\n",
       "\n",
       "         [[-1.5528, -1.5528, -1.5528,  ..., -1.5699, -1.4500, -0.9705],\n",
       "          [-1.5528, -1.5528, -1.5528,  ..., -1.8439, -1.7754, -1.7754],\n",
       "          [-1.5528, -1.5528, -1.5528,  ..., -1.7583, -1.9124, -1.8782],\n",
       "          ...,\n",
       "          [ 1.5125,  1.4783,  1.4612,  ...,  1.3927,  1.4098,  1.4098],\n",
       "          [ 1.4440,  1.4098,  1.3927,  ...,  1.5639,  1.4440,  1.4440],\n",
       "          [ 1.4269,  1.4098,  1.4098,  ...,  1.6495,  1.4440,  1.4440]],\n",
       "\n",
       "         [[-0.5301, -0.5301, -0.5301,  ..., -1.4755, -1.3179, -0.8277],\n",
       "          [-0.5301, -0.5301, -0.5301,  ..., -1.7556, -1.6506, -1.6506],\n",
       "          [-0.5301, -0.5301, -0.5301,  ..., -1.6856, -1.8256, -1.7906],\n",
       "          ...,\n",
       "          [ 1.5532,  1.5182,  1.5007,  ...,  1.4307,  1.5707,  1.5707],\n",
       "          [ 1.5357,  1.5007,  1.4832,  ...,  1.5882,  1.5532,  1.5532],\n",
       "          [ 1.5182,  1.5007,  1.5007,  ...,  1.6408,  1.5532,  1.5532]],\n",
       "\n",
       "         [[ 0.2348,  0.2348,  0.2348,  ..., -1.2467, -1.1073, -0.6193],\n",
       "          [ 0.2348,  0.2348,  0.2348,  ..., -1.5256, -1.4384, -1.4384],\n",
       "          [ 0.2348,  0.2348,  0.2348,  ..., -1.4907, -1.6302, -1.5953],\n",
       "          ...,\n",
       "          [ 1.5942,  1.5594,  1.5420,  ...,  1.4722,  1.6465,  1.6465],\n",
       "          [ 1.5594,  1.5245,  1.5071,  ...,  1.6117,  1.6117,  1.6117],\n",
       "          [ 1.5245,  1.5071,  1.5071,  ...,  1.6465,  1.6117,  1.6117]]]])"
      ]
     },
     "execution_count": 19,
     "metadata": {},
     "output_type": "execute_result"
    }
   ],
   "source": [
    "image[0]"
   ]
  },
  {
   "cell_type": "code",
   "execution_count": 37,
   "metadata": {},
   "outputs": [
    {
     "data": {
      "text/plain": [
       "tensor([[43.5000, 49.9400, 53.5800, 54.2300, 84.8900, 66.0000, 76.2500, 86.7700,\n",
       "         57.8300, 80.2000],\n",
       "        [22.3100, 36.9100, 18.9100, 32.2500, 48.6000, 36.0900, 26.1100,  7.0900,\n",
       "         22.1100,  8.0000],\n",
       "        [80.0000, 79.3300, 72.0000, 57.2000, 75.2000, 36.6000, 75.8300, 83.6700,\n",
       "         77.0900, 71.1400],\n",
       "        [48.8000, 35.8000, 57.2000, 46.5700, 29.4000, 33.2900, 36.6000, 19.8000,\n",
       "         44.0000, 30.5700],\n",
       "        [20.3000, 19.5700, 24.1400, 33.7500, 19.7500, 29.4000, 24.0000, 30.0000,\n",
       "         23.5000, 32.6000]])"
      ]
     },
     "execution_count": 37,
     "metadata": {},
     "output_type": "execute_result"
    }
   ],
   "source": [
    "targets"
   ]
  },
  {
   "cell_type": "code",
   "execution_count": 13,
   "metadata": {},
   "outputs": [],
   "source": [
    "l1_loss = nn.L1Loss(reduction='none')"
   ]
  },
  {
   "cell_type": "code",
   "execution_count": 54,
   "metadata": {},
   "outputs": [],
   "source": [
    "labels, preds = torch.rand([5]), torch.rand([5])"
   ]
  },
  {
   "cell_type": "code",
   "execution_count": 55,
   "metadata": {},
   "outputs": [
    {
     "data": {
      "text/plain": [
       "(tensor([0.0803, 0.1165, 0.3962, 0.1688, 0.7255]),\n",
       " tensor([0.7949, 0.7077, 0.9917, 0.1666, 0.0328]))"
      ]
     },
     "execution_count": 55,
     "metadata": {},
     "output_type": "execute_result"
    }
   ],
   "source": [
    "labels, preds"
   ]
  },
  {
   "cell_type": "code",
   "execution_count": 59,
   "metadata": {},
   "outputs": [
    {
     "data": {
      "text/plain": [
       "tensor([[43.5000, 49.9400, 53.5800, 54.2300, 84.8900, 66.0000, 76.2500, 86.7700,\n",
       "         57.8300, 80.2000],\n",
       "        [22.3100, 36.9100, 18.9100, 32.2500, 48.6000, 36.0900, 26.1100,  7.0900,\n",
       "         22.1100,  8.0000],\n",
       "        [80.0000, 79.3300, 72.0000, 57.2000, 75.2000, 36.6000, 75.8300, 83.6700,\n",
       "         77.0900, 71.1400],\n",
       "        [48.8000, 35.8000, 57.2000, 46.5700, 29.4000, 33.2900, 36.6000, 19.8000,\n",
       "         44.0000, 30.5700],\n",
       "        [20.3000, 19.5700, 24.1400, 33.7500, 19.7500, 29.4000, 24.0000, 30.0000,\n",
       "         23.5000, 32.6000]])"
      ]
     },
     "execution_count": 59,
     "metadata": {},
     "output_type": "execute_result"
    }
   ],
   "source": [
    "targets"
   ]
  },
  {
   "cell_type": "code",
   "execution_count": 58,
   "metadata": {},
   "outputs": [],
   "source": [
    "# mine\n",
    "indexlabel = torch.argsort(targets, dim=0) # small--> large\n",
    "anchor1 = torch.unsqueeze(targets[indexlabel[0],...].contiguous(),dim=0) # d_min\n",
    "positive1 = torch.unsqueeze(targets[indexlabel[1],...].contiguous(),dim=0) # d'_min+\n",
    "negative1_1 = torch.unsqueeze(targets[indexlabel[-1],...].contiguous(),dim=0) # d_max+"
   ]
  },
  {
   "cell_type": "code",
   "execution_count": 61,
   "metadata": {},
   "outputs": [
    {
     "data": {
      "text/plain": [
       "tensor([[20.3000, 19.5700, 24.1400, 33.7500, 19.7500, 29.4000, 24.0000, 30.0000,\n",
       "         23.5000, 32.6000],\n",
       "        [20.3000, 19.5700, 24.1400, 33.7500, 19.7500, 29.4000, 24.0000, 30.0000,\n",
       "         23.5000, 32.6000],\n",
       "        [22.3100, 36.9100, 18.9100, 32.2500, 48.6000, 36.0900, 26.1100,  7.0900,\n",
       "         22.1100,  8.0000],\n",
       "        [22.3100, 36.9100, 18.9100, 32.2500, 48.6000, 36.0900, 26.1100,  7.0900,\n",
       "         22.1100,  8.0000],\n",
       "        [20.3000, 19.5700, 24.1400, 33.7500, 19.7500, 29.4000, 24.0000, 30.0000,\n",
       "         23.5000, 32.6000],\n",
       "        [20.3000, 19.5700, 24.1400, 33.7500, 19.7500, 29.4000, 24.0000, 30.0000,\n",
       "         23.5000, 32.6000],\n",
       "        [20.3000, 19.5700, 24.1400, 33.7500, 19.7500, 29.4000, 24.0000, 30.0000,\n",
       "         23.5000, 32.6000],\n",
       "        [22.3100, 36.9100, 18.9100, 32.2500, 48.6000, 36.0900, 26.1100,  7.0900,\n",
       "         22.1100,  8.0000],\n",
       "        [22.3100, 36.9100, 18.9100, 32.2500, 48.6000, 36.0900, 26.1100,  7.0900,\n",
       "         22.1100,  8.0000],\n",
       "        [22.3100, 36.9100, 18.9100, 32.2500, 48.6000, 36.0900, 26.1100,  7.0900,\n",
       "         22.1100,  8.0000]])"
      ]
     },
     "execution_count": 61,
     "metadata": {},
     "output_type": "execute_result"
    }
   ],
   "source": [
    "targets[indexlabel[0],...]"
   ]
  },
  {
   "cell_type": "code",
   "execution_count": 56,
   "metadata": {},
   "outputs": [],
   "source": [
    "# their\n",
    "indexlabel = torch.argsort(labels) # small--> large\n",
    "anchor1 = torch.unsqueeze(preds[indexlabel[0],...].contiguous(),dim=0) # d_min\n",
    "positive1 = torch.unsqueeze(preds[indexlabel[1],...].contiguous(),dim=0) # d'_min+\n",
    "negative1_1 = torch.unsqueeze(preds[indexlabel[-1],...].contiguous(),dim=0) # d_max+"
   ]
  },
  {
   "cell_type": "code",
   "execution_count": 57,
   "metadata": {},
   "outputs": [
    {
     "data": {
      "text/plain": [
       "(tensor(0.7949), tensor([0.7949]))"
      ]
     },
     "execution_count": 57,
     "metadata": {},
     "output_type": "execute_result"
    }
   ],
   "source": [
    "preds[indexlabel[0]], anchor1"
   ]
  },
  {
   "cell_type": "code",
   "execution_count": 38,
   "metadata": {},
   "outputs": [
    {
     "data": {
      "text/plain": [
       "tensor([[4, 4, 1, 1, 4, 4, 4, 1, 1, 1],\n",
       "        [1, 3, 4, 4, 3, 3, 1, 3, 4, 3],\n",
       "        [0, 1, 0, 3, 1, 1, 3, 4, 3, 4],\n",
       "        [3, 0, 3, 0, 2, 2, 2, 2, 0, 2],\n",
       "        [2, 2, 2, 2, 0, 0, 0, 0, 2, 0]])"
      ]
     },
     "execution_count": 38,
     "metadata": {},
     "output_type": "execute_result"
    }
   ],
   "source": [
    "torch.argsort(targets, dim=0)"
   ]
  },
  {
   "cell_type": "code",
   "execution_count": 62,
   "metadata": {},
   "outputs": [],
   "source": [
    "resnet = models.resnet50(weights=\"DEFAULT\")"
   ]
  },
  {
   "cell_type": "code",
   "execution_count": 21,
   "metadata": {},
   "outputs": [],
   "source": [
    "backbone_config = argparse.Namespace()\n",
    "backbone_config.network = 'resnet50'\n",
    "backbone_config.nheadt = 16\n",
    "backbone_config.num_encoder_layerst = 2\n",
    "backbone_config.dim_feedforwardt = 64\n",
    "backbone_config.device = \"cpu\"\n",
    "backbone_config.k = 3\n",
    "backbone_config.multi_return = 1\n",
    "m = Net(backbone_config, \"cpu\")\n"
   ]
  },
  {
   "cell_type": "code",
   "execution_count": 31,
   "metadata": {},
   "outputs": [
    {
     "data": {
      "text/plain": [
       "16388"
      ]
     },
     "execution_count": 31,
     "metadata": {},
     "output_type": "execute_result"
    }
   ],
   "source": [
    "for parameter in m.parameters():\n",
    "    parameter.requires_grad = False\n",
    "for parameter in m.fc.parameters():\n",
    "    parameter.requires_grad = True\n",
    "sum(p.numel() for p in m.parameters() if p.requires_grad)"
   ]
  },
  {
   "cell_type": "code",
   "execution_count": 57,
   "metadata": {},
   "outputs": [],
   "source": [
    "seed = 1\n",
    "path = f\"/extra_disk_1/sharfikeg/Save_TReSS/csiq_1_{seed}/k_3/lr_0.0002_lrratio1/no_finetune/single_return/PLCC_SRCC_1_{seed}.json\"\n",
    "f = open(path, \"r\")\n",
    "scores = json.loads(f.read())"
   ]
  },
  {
   "cell_type": "code",
   "execution_count": 58,
   "metadata": {},
   "outputs": [
    {
     "data": {
      "image/png": "[encoded data removed]",
      "text/plain": [
       "<Figure size 640x480 with 1 Axes>"
      ]
     },
     "metadata": {},
     "output_type": "display_data"
    }
   ],
   "source": [
    "x,y= zip(*scores.items()) \n",
    "\n",
    "x = np.array(list(map(int, x)))\n",
    "y = np.array(y)[:,0]\n",
    "\n",
    "fig,ax = plt.subplots()\n",
    "ax.plot(x , y)\n",
    "\n",
    "def annot_max(x,y, ax=None):\n",
    "    xmax = x[np.argmax(y)]\n",
    "    ymax = y.max()\n",
    "    text= \"x={}, y={:.6f}\".format(xmax, ymax)\n",
    "    if not ax:\n",
    "        ax=plt.gca()\n",
    "    bbox_props = dict(boxstyle=\"square,pad=0.3\", fc=\"w\", ec=\"k\", lw=0.72)\n",
    "    arrowprops=dict(arrowstyle=\"->\",connectionstyle=\"angle,angleA=0,angleB=60\")\n",
    "    kw = dict(xycoords='data',textcoords=\"axes fraction\",\n",
    "              arrowprops=arrowprops, bbox=bbox_props, ha=\"right\", va=\"top\")\n",
    "    ax.annotate(text, xy=(xmax, ymax), xytext=(0.94,0.96), **kw)\n",
    "\n",
    "annot_max(x,y)\n",
    "plt.show()"
   ]
  },
  {
   "cell_type": "code",
   "execution_count": 59,
   "metadata": {},
   "outputs": [
    {
     "data": {
      "text/plain": [
       "array([  0,   1,   2,   4,   3,   7,   9,   6,   5,  12,  15,  11,   8,\n",
       "        16,  19,  21,  10, 117, 141, 140,  14,  20,  13,  25,  18,  32,\n",
       "        27,  17,  22,  28,  23,  26, 136,  24,  40,  44, 127,  30,  29,\n",
       "        46,  52,  43,  89,  33,  72,  54, 146,  31,  34,  57,  45,  36,\n",
       "        77, 138,  48,  93,  64,  38,  78,  47, 125, 145, 131,  37,  91,\n",
       "       148, 142,  39, 105, 139, 112,  49,  87,  56, 115, 137,  74,  97,\n",
       "        98,  81, 107, 135,  70,  58, 118, 119, 109, 121,  92,  35,  60,\n",
       "        86, 144,  75, 111, 123, 106,  80,  50,  59, 147, 116, 108,  68,\n",
       "        51, 113, 129, 102,  90,  42,  66,  76, 124, 128, 126,  65,  95,\n",
       "        63, 101,  94,  73,  85, 104, 130, 133,  67, 143, 100,  83,  53,\n",
       "       110,  55,  62,  71,  69, 134, 103,  82, 122,  88, 132,  84,  99,\n",
       "        41, 120, 114,  61,  79,  96])"
      ]
     },
     "execution_count": 59,
     "metadata": {},
     "output_type": "execute_result"
    }
   ],
   "source": [
    "y.argsort()"
   ]
  }
 ],
 "metadata": {
  "kernelspec": {
   "display_name": "myenv",
   "language": "python",
   "name": "python3"
  },
  "language_info": {
   "codemirror_mode": {
    "name": "ipython",
    "version": 3
   },
   "file_extension": ".py",
   "mimetype": "text/x-python",
   "name": "python",
   "nbconvert_exporter": "python",
   "pygments_lexer": "ipython3",
   "version": "3.9.13"
  },
  "orig_nbformat": 4
 },
 "nbformat": 4,
 "nbformat_minor": 2
}
