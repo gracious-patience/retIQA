{
 "cells": [
  {
   "cell_type": "code",
   "execution_count": 11,
   "metadata": {},
   "outputs": [],
   "source": [
    "import torch\n",
    "from model import ResNet50\n",
    "from BoTNet import botnet\n",
    "import torchvision.models as models\n",
    "import torch.nn.functional as F\n",
    "import torch.optim as optim\n",
    "import torch.nn as nn\n",
    "from preprocess import DistortedKadis700k, DistortedKadid10k\n",
    "from torchvision import transforms as T\n",
    "from torch.utils.data import DataLoader\n",
    "import os\n"
   ]
  },
  {
   "cell_type": "code",
   "execution_count": null,
   "metadata": {},
   "outputs": [],
   "source": [
    "device = \"cuda:0\"\n",
    "model = models.resnet50(weights=\"DEFAULT\")\n",
    "# model.classifier[-1] = nn.Linear(in_features=4096, out_features=125, bias=True)\n",
    "model\n"
   ]
  },
  {
   "cell_type": "code",
   "execution_count": 12,
   "metadata": {},
   "outputs": [
    {
     "name": "stdout",
     "output_type": "stream",
     "text": [
      "=> Using pre-trained distortion perception module from /home/sharfikeg/my_files/VIPNet/pretrained_model/botnet_model_best.pth.tar.\n"
     ]
    }
   ],
   "source": [
    "dpm = botnet(\n",
    "    '/home/sharfikeg/my_files/VIPNet/pretrained_model/botnet_model_best.pth.tar',\n",
    "    resolution=(288, 384), heads=16, num_classes=150\n",
    ")"
   ]
  },
  {
   "cell_type": "code",
   "execution_count": 15,
   "metadata": {},
   "outputs": [
    {
     "data": {
      "text/plain": [
       "Linear(in_features=8192, out_features=150, bias=True)"
      ]
     },
     "execution_count": 15,
     "metadata": {},
     "output_type": "execute_result"
    }
   ],
   "source": [
    "dpm.fc[1]"
   ]
  },
  {
   "cell_type": "code",
   "execution_count": 14,
   "metadata": {},
   "outputs": [
    {
     "data": {
      "text/plain": [
       "torch.return_types.max(\n",
       "values=tensor([0.0135, 0.0154], device='cuda:0', grad_fn=<MaxBackward0>),\n",
       "indices=tensor([29, 90], device='cuda:0'))"
      ]
     },
     "execution_count": 14,
     "metadata": {},
     "output_type": "execute_result"
    }
   ],
   "source": [
    "x = torch.randn([2, 3, 288, 384], device=device)\n",
    "output = model(x)\n",
    "F.softmax(output, dim=-1).max(1)"
   ]
  },
  {
   "cell_type": "code",
   "execution_count": 10,
   "metadata": {},
   "outputs": [],
   "source": [
    "criterion = nn.CrossEntropyLoss()\n",
    "optimizer = optim.SGD(model.parameters(), lr=0.05, momentum=0.9)"
   ]
  },
  {
   "cell_type": "code",
   "execution_count": 19,
   "metadata": {},
   "outputs": [],
   "source": [
    "transform = T.Compose([\n",
    "    T.Resize((288, 384)),\n",
    "    T.ToTensor()\n",
    "])\n",
    "\n",
    "dataset = DistortedKadis700k('/extra_disk_1/s-kastryulin/data/kadis700k/images/',  transform=transform)\n",
    "\n",
    "loader = DataLoader(dataset, batch_size=1, shuffle=True, num_workers=4)"
   ]
  },
  {
   "cell_type": "code",
   "execution_count": null,
   "metadata": {},
   "outputs": [],
   "source": [
    "path = \"/home/sharfikeg/my_files/retIQA/csiq/distorted_images/\"\n",
    "for dir in os.listdir(path):\n",
    "    cur_path = path + dir\n",
    "    for name in os.listdir(cur_path):\n",
    "        ref_name, dst_type, level, ext = name.split('.')\n",
    "        if dst_type == 'AWGN':\n",
    "            new_dst_type = '0'\n",
    "        elif dst_type == 'BLUR':\n",
    "            new_dst_type = '1'\n",
    "        elif dst_type == 'contrast':\n",
    "            new_dst_type = '2'\n",
    "        elif dst_type == 'fnoise':\n",
    "            new_dst_type = '3'\n",
    "        elif dst_type == 'JPEG':\n",
    "            new_dst_type = '4'\n",
    "        elif dst_type == 'jpeg2000':\n",
    "            new_dst_type = '5'\n",
    "        new_name = f\"{ref_name}_{new_dst_type}_{level}.{ext}\"\n",
    "        print(name, new_name)\n",
    "        "
   ]
  }
 ],
 "metadata": {
  "kernelspec": {
   "display_name": "myenv",
   "language": "python",
   "name": "python3"
  },
  "language_info": {
   "codemirror_mode": {
    "name": "ipython",
    "version": 3
   },
   "file_extension": ".py",
   "mimetype": "text/x-python",
   "name": "python",
   "nbconvert_exporter": "python",
   "pygments_lexer": "ipython3",
   "version": "3.9.13"
  },
  "orig_nbformat": 4
 },
 "nbformat": 4,
 "nbformat_minor": 2
}
